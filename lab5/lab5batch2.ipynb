{
 "cells": [
  {
   "cell_type": "code",
   "execution_count": 2,
   "outputs": [],
   "source": [
    "import torch\n",
    "import torch.nn as nn\n",
    "import torch.optim as optim\n",
    "import torchvision\n",
    "from torchvision import datasets, transforms\n",
    "from torch.utils.data import DataLoader\n",
    "from sklearn.model_selection import train_test_split"
   ],
   "metadata": {
    "collapsed": false,
    "pycharm": {
     "name": "#%%\n"
    }
   }
  },
  {
   "cell_type": "code",
   "execution_count": 3,
   "metadata": {
    "collapsed": true
   },
   "outputs": [],
   "source": [
    "class FashionNN(nn.Module):\n",
    "    def __init__(self, input_size, output_size, hidden_layers, hidden_size):\n",
    "        super(FashionNN, self).__init__()\n",
    "        self.input_size = input_size\n",
    "        self.output_size = output_size\n",
    "        self.hidden_layers = hidden_layers\n",
    "        self.hidden_size = hidden_size\n",
    "\n",
    "        self.layers = nn.ModuleList([nn.Linear(input_size, hidden_size)])\n",
    "\n",
    "        for _ in range(hidden_layers):\n",
    "            self.layers.extend([nn.Linear(hidden_size, hidden_size)])\n",
    "\n",
    "        self.layers.append(nn.Linear(hidden_size, output_size))\n",
    "\n",
    "    def forward(self, x):\n",
    "        #pixele do jednowymiarowej macierzy\n",
    "        x = x.view(-1, self.input_size)\n",
    "        for layer in self.layers:\n",
    "            x = torch.relu(layer(x))\n",
    "        return x\n"
   ]
  },
  {
   "cell_type": "code",
   "execution_count": 4,
   "outputs": [],
   "source": [
    "# obrazy w Tensor object\n",
    "mean = 0.5\n",
    "std_dev = 0.5\n",
    "transform = transforms.Compose([transforms.ToTensor(), transforms.Normalize((mean,), (std_dev,))])\n",
    "\n",
    "trainset = datasets.FashionMNIST('~/.pytorch/F_MNIST_data/', download=True, train=True, transform=transform)\n",
    "# train_data, val_data = train_test_split(trainset, test_size=0.2, random_state=42)\n",
    "train_data, val_data = train_test_split(trainset, train_size=0.1, random_state=42)\n",
    "\n"
   ],
   "metadata": {
    "collapsed": false,
    "pycharm": {
     "name": "#%%\n"
    }
   }
  },
  {
   "cell_type": "code",
   "execution_count": 11,
   "outputs": [],
   "source": [
    "def add_gaussian_noise(batch, mean=0, std=2):\n",
    "    noise = torch.randn_like(batch) * std + mean\n",
    "    return batch + noise"
   ],
   "metadata": {
    "collapsed": false,
    "pycharm": {
     "name": "#%%\n"
    }
   }
  },
  {
   "cell_type": "code",
   "execution_count": 14,
   "outputs": [
    {
     "name": "stdout",
     "output_type": "stream",
     "text": [
      "Epoch 1 - Training Loss: 2.261876393379049\n",
      "Epoch 1 - Validation Loss: 2.1763834512629217\n",
      "Epoch 2 - Training Loss: 1.947101078134902\n",
      "Epoch 2 - Validation Loss: 1.649366766920587\n",
      "Epoch 3 - Training Loss: 1.5328993487865368\n",
      "Epoch 3 - Validation Loss: 1.457758637401165\n",
      "Epoch 4 - Training Loss: 1.4115836914549482\n",
      "Epoch 4 - Validation Loss: 1.3736296547532647\n",
      "Epoch 5 - Training Loss: 1.3433733473432825\n",
      "Epoch 5 - Validation Loss: 1.3204475081927403\n",
      "Final Accuracy: 0.5917\n"
     ]
    }
   ],
   "source": [
    "import matplotlib.pyplot as plt\n",
    "batch = 256\n",
    "trainloader = DataLoader(trainset, batch_size=batch, shuffle=True)\n",
    "val_loader = DataLoader(val_data, batch_size=batch, shuffle=True)\n",
    "\n",
    "input_size = 28 * 28  # pixele\n",
    "output_size = 10  # 10 klas\n",
    "hidden_layers = 1\n",
    "hidden_size = 25\n",
    "\n",
    "model = FashionNN(input_size, output_size, hidden_layers, hidden_size)\n",
    "device = torch.device(\"cuda\" if torch.cuda.is_available() else \"cpu\")\n",
    "model.to(device)\n",
    "\n",
    "criterion = nn.CrossEntropyLoss()\n",
    "optimizer = optim.SGD(model.parameters(), lr=0.01)\n",
    "\n",
    "loss_values = []\n",
    "val_loss_values = []\n",
    "epochs = 5\n",
    "for epoch in range(epochs):\n",
    "    running_loss = 0.0\n",
    "    for images, labels in trainloader:\n",
    "        optimizer.zero_grad()\n",
    "        images_with_noise = add_gaussian_noise(images)        #dodawanie szumu\n",
    "        outputs = model(images_with_noise)\n",
    "        loss = criterion(outputs, labels)\n",
    "        loss.backward()\n",
    "        optimizer.step()\n",
    "        running_loss += loss.item()\n",
    "    print(f\"Epoch {epoch+1} - Training Loss: {running_loss/len(trainloader)}\")\n",
    "    loss_values.append(running_loss/len(trainloader))\n",
    "\n",
    "    # validation loss\n",
    "    val_running_loss = 0.0\n",
    "    model.eval()  # evaluation mode\n",
    "    with torch.no_grad():\n",
    "        for val_images, val_labels in val_loader:\n",
    "            val_images_with_noise = add_gaussian_noise(val_images)      #dodawanie szumu\n",
    "            val_outputs = model(val_images_with_noise)\n",
    "            val_loss = criterion(val_outputs, val_labels)\n",
    "            val_running_loss += val_loss.item()\n",
    "        val_loss_values.append(val_running_loss/len(val_loader))\n",
    "        print(f\"Epoch {epoch+1} - Validation Loss: {val_running_loss/len(val_loader)}\")\n",
    "    model.train()\n",
    "\n",
    "\n",
    "correct = 0\n",
    "total = 0\n",
    "with torch.no_grad():\n",
    "    for images, labels in trainloader:\n",
    "        outputs = model(images)\n",
    "        _, predicted = torch.max(outputs, 1)\n",
    "        total += labels.size(0)\n",
    "        correct += (predicted == labels).sum().item()\n",
    "\n",
    "accuracy = correct / total\n",
    "print(f\"Final Accuracy: {accuracy:.4f}\")"
   ],
   "metadata": {
    "collapsed": false,
    "pycharm": {
     "name": "#%%\n"
    }
   }
  },
  {
   "cell_type": "code",
   "execution_count": 15,
   "outputs": [
    {
     "data": {
      "text/plain": "<Figure size 432x288 with 1 Axes>",
      "image/png": "[encoded data removed]"
     },
     "metadata": {
      "needs_background": "light"
     },
     "output_type": "display_data"
    }
   ],
   "source": [
    "plt.plot(range(0, epochs), loss_values, label='Training Loss')\n",
    "plt.plot(range(0, epochs), val_loss_values, label='Validation Loss')\n",
    "plt.xlabel('End of Training')\n",
    "plt.ylabel('Loss')\n",
    "plt.title(f'Loss Curve (number of layers: {hidden_layers}, with Std_dev = 2)')\n",
    "plt.legend()\n",
    "plt.show()"
   ],
   "metadata": {
    "collapsed": false,
    "pycharm": {
     "name": "#%%\n"
    }
   }
  }
 ],
 "metadata": {
  "kernelspec": {
   "display_name": "Python 3",
   "language": "python",
   "name": "python3"
  },
  "language_info": {
   "codemirror_mode": {
    "name": "ipython",
    "version": 2
   },
   "file_extension": ".py",
   "mimetype": "text/x-python",
   "name": "python",
   "nbconvert_exporter": "python",
   "pygments_lexer": "ipython2",
   "version": "2.7.6"
  }
 },
 "nbformat": 4,
 "nbformat_minor": 0
}