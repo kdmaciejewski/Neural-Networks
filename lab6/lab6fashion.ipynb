{
 "cells": [
  {
   "cell_type": "code",
   "execution_count": 2,
   "outputs": [],
   "source": [
    "import torch\n",
    "import torch.nn as nn\n",
    "import torch.optim as optim\n",
    "from torchvision.datasets import MNIST\n",
    "from torch.utils.data import DataLoader\n",
    "from torchvision import transforms"
   ],
   "metadata": {
    "collapsed": false,
    "pycharm": {
     "name": "#%%\n"
    }
   }
  },
  {
   "cell_type": "code",
   "execution_count": 4,
   "metadata": {
    "collapsed": true
   },
   "outputs": [
    {
     "name": "stdout",
     "output_type": "stream",
     "text": [
      "Epoch 1/5, Loss: 0.19962810735200356\n",
      "Epoch 2/5, Loss: 0.06352610135751802\n",
      "Epoch 3/5, Loss: 0.04808249428105264\n",
      "Epoch 4/5, Loss: 0.037718679769143865\n",
      "Epoch 5/5, Loss: 0.03060157842002561\n",
      "Test Accuracy: 98.69%\n"
     ]
    }
   ],
   "source": [
    "from torchvision.datasets import FashionMNIST\n",
    "\n",
    "class NoisyFashionMNIST(FashionMNIST):\n",
    "    def __init__(self, *args, noise_std=0.1, **kwargs):\n",
    "        super(NoisyFashionMNIST, self).__init__(*args, **kwargs)\n",
    "        self.noise_std = noise_std\n",
    "\n",
    "    def __getitem__(self, index):\n",
    "        img, label = super(NoisyFashionMNIST, self).__getitem__(index)\n",
    "        img += self.noise_std * torch.randn_like(img)\n",
    "        return img, label\n",
    "\n",
    "transform = transforms.Compose([transforms.ToTensor(), transforms.Normalize((0.5,), (0.5,))])\n",
    "\n",
    "train_dataset_noisy = NoisyFashionMNIST(root='./data', train=True, download=True, transform=transform, noise_std=0.1)\n",
    "test_dataset_noisy = NoisyFashionMNIST(root='./data', train=False, download=True, transform=transform, noise_std=0.1)\n",
    "\n",
    "train_loader = DataLoader(dataset=train_dataset_noisy, batch_size=64, shuffle=True)\n",
    "test_loader = DataLoader(dataset=test_dataset_noisy, batch_size=64, shuffle=False)\n",
    "\n",
    "\n",
    "# brak szumu w danych trenignowych\n",
    "# train_dataset = FashionMNIST(root='./data', train=True, download=True, transform=transform)\n",
    "# train_loader = DataLoader(dataset=train_dataset, batch_size=64, shuffle=True)\n",
    "\n",
    "\n",
    "# Definicja modelu\n",
    "class CNNModel(nn.Module):\n",
    "    def __init__(self, num_channels, kernel_size, pool_size):\n",
    "        super(CNNModel, self).__init__()\n",
    "        self.conv1 = nn.Conv2d(1, num_channels, kernel_size)\n",
    "        self.relu1 = nn.ReLU()\n",
    "\n",
    "        self.conv2 = nn.Conv2d(num_channels, num_channels, kernel_size)\n",
    "        self.relu2 = nn.ReLU()\n",
    "\n",
    "        self.pool = nn.MaxPool2d(pool_size)\n",
    "        self.flatten = nn.Flatten()\n",
    "        self.lazy_linear = nn.LazyLinear(10)\n",
    "\n",
    "    def forward(self, x):\n",
    "        x = self.conv1(x)\n",
    "        x = self.relu1(x)\n",
    "        x = self.conv2(x)\n",
    "        x = self.relu2(x)\n",
    "        x = self.pool(x)\n",
    "        x = self.flatten(x)\n",
    "        x = self.lazy_linear(x)\n",
    "        return x\n",
    "\n",
    "\n",
    "def train_model(model, train_loader, criterion, optimizer, num_epochs=5):\n",
    "    for epoch in range(num_epochs):\n",
    "        model.train()\n",
    "        running_loss = 0.0\n",
    "        for inputs, labels in train_loader:\n",
    "            optimizer.zero_grad()\n",
    "            outputs = model(inputs)\n",
    "            loss = criterion(outputs, labels)\n",
    "            loss.backward()\n",
    "            optimizer.step()\n",
    "            running_loss += loss.item()\n",
    "        print(f'Epoch {epoch + 1}/{num_epochs}, Loss: {running_loss / len(train_loader)}')\n",
    "\n",
    "\n",
    "def test_model(model, test_loader, criterion):\n",
    "    model.eval()\n",
    "    correct = 0\n",
    "    total = 0\n",
    "    with torch.no_grad():\n",
    "        for inputs, labels in test_loader:\n",
    "            outputs = model(inputs)\n",
    "            # predicted to index przewidzianej klasy\n",
    "            _, predicted = torch.max(outputs, 1)\n",
    "            total += labels.size(0)\n",
    "            correct += (predicted == labels).sum().item()\n",
    "    accuracy = correct / total\n",
    "    print(f'Test Accuracy: {accuracy * 100:.2f}%')\n",
    "\n",
    "# Parametry do przebadania\n",
    "num_channels_list = [16, 32, 64]\n",
    "kernel_size_list = [3, 5]\n",
    "pool_size_list = [2, 3]\n",
    "\n",
    "\n",
    "model = CNNModel(num_channels=num_channels_list[0],\n",
    "                 kernel_size=kernel_size_list[0],\n",
    "                 pool_size=pool_size_list[0], )\n",
    "\n",
    "# Definicja funkcji kosztu i optymalizatora\n",
    "criterion = nn.CrossEntropyLoss()\n",
    "optimizer = optim.Adam(model.parameters(), lr=0.001)\n",
    "\n",
    "# Trenowanie modelu\n",
    "train_model(model, train_loader, criterion, optimizer)\n",
    "\n",
    "# Testowanie modelu\n",
    "test_model(model, test_loader, criterion)"
   ]
  },
  {
   "cell_type": "code",
   "execution_count": null,
   "outputs": [],
   "source": [],
   "metadata": {
    "collapsed": false,
    "pycharm": {
     "name": "#%%\n"
    }
   }
  }
 ],
 "metadata": {
  "kernelspec": {
   "display_name": "Python 3",
   "language": "python",
   "name": "python3"
  },
  "language_info": {
   "codemirror_mode": {
    "name": "ipython",
    "version": 2
   },
   "file_extension": ".py",
   "mimetype": "text/x-python",
   "name": "python",
   "nbconvert_exporter": "python",
   "pygments_lexer": "ipython2",
   "version": "2.7.6"
  }
 },
 "nbformat": 4,
 "nbformat_minor": 0
}