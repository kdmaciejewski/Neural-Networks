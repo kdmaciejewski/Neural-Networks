{
 "cells": [
  {
   "cell_type": "code",
   "execution_count": 2,
   "outputs": [],
   "source": [
    "import torch\n",
    "import torch.nn as nn\n",
    "import torch.optim as optim\n",
    "import torchvision.transforms as transforms\n",
    "from torch.utils.data import DataLoader\n",
    "from torchvision.datasets import MNIST"
   ],
   "metadata": {
    "collapsed": false,
    "pycharm": {
     "name": "#%%\n"
    }
   }
  },
  {
   "cell_type": "code",
   "execution_count": 3,
   "metadata": {
    "collapsed": true
   },
   "outputs": [
    {
     "name": "stdout",
     "output_type": "stream",
     "text": [
      "Downloading http://fashion-mnist.s3-website.eu-central-1.amazonaws.com/train-images-idx3-ubyte.gz\n",
      "Downloading http://fashion-mnist.s3-website.eu-central-1.amazonaws.com/train-images-idx3-ubyte.gz to ./data\\FashionMNIST\\raw\\train-images-idx3-ubyte.gz\n"
     ]
    },
    {
     "name": "stderr",
     "output_type": "stream",
     "text": [
      "100%|██████████| 26421880/26421880 [00:06<00:00, 4370881.15it/s]\n"
     ]
    },
    {
     "name": "stdout",
     "output_type": "stream",
     "text": [
      "Extracting ./data\\FashionMNIST\\raw\\train-images-idx3-ubyte.gz to ./data\\FashionMNIST\\raw\n",
      "\n",
      "Downloading http://fashion-mnist.s3-website.eu-central-1.amazonaws.com/train-labels-idx1-ubyte.gz\n",
      "Downloading http://fashion-mnist.s3-website.eu-central-1.amazonaws.com/train-labels-idx1-ubyte.gz to ./data\\FashionMNIST\\raw\\train-labels-idx1-ubyte.gz\n"
     ]
    },
    {
     "name": "stderr",
     "output_type": "stream",
     "text": [
      "100%|██████████| 29515/29515 [00:00<00:00, 797709.12it/s]\n"
     ]
    },
    {
     "name": "stdout",
     "output_type": "stream",
     "text": [
      "Extracting ./data\\FashionMNIST\\raw\\train-labels-idx1-ubyte.gz to ./data\\FashionMNIST\\raw\n",
      "\n",
      "Downloading http://fashion-mnist.s3-website.eu-central-1.amazonaws.com/t10k-images-idx3-ubyte.gz\n",
      "Downloading http://fashion-mnist.s3-website.eu-central-1.amazonaws.com/t10k-images-idx3-ubyte.gz to ./data\\FashionMNIST\\raw\\t10k-images-idx3-ubyte.gz\n"
     ]
    },
    {
     "name": "stderr",
     "output_type": "stream",
     "text": [
      "100%|██████████| 4422102/4422102 [00:00<00:00, 5315018.72it/s]\n"
     ]
    },
    {
     "name": "stdout",
     "output_type": "stream",
     "text": [
      "Extracting ./data\\FashionMNIST\\raw\\t10k-images-idx3-ubyte.gz to ./data\\FashionMNIST\\raw\n",
      "\n",
      "Downloading http://fashion-mnist.s3-website.eu-central-1.amazonaws.com/t10k-labels-idx1-ubyte.gz\n",
      "Downloading http://fashion-mnist.s3-website.eu-central-1.amazonaws.com/t10k-labels-idx1-ubyte.gz to ./data\\FashionMNIST\\raw\\t10k-labels-idx1-ubyte.gz\n"
     ]
    },
    {
     "name": "stderr",
     "output_type": "stream",
     "text": [
      "100%|██████████| 5148/5148 [00:00<00:00, 5412954.87it/s]"
     ]
    },
    {
     "name": "stdout",
     "output_type": "stream",
     "text": [
      "Extracting ./data\\FashionMNIST\\raw\\t10k-labels-idx1-ubyte.gz to ./data\\FashionMNIST\\raw\n",
      "\n"
     ]
    },
    {
     "name": "stderr",
     "output_type": "stream",
     "text": [
      "\n"
     ]
    }
   ],
   "source": [
    "from torchvision.datasets import FashionMNIST\n",
    "\n",
    "transform = transforms.Compose([transforms.ToTensor(), transforms.Normalize((0.5,), (0.5,))])\n",
    "train_dataset = FashionMNIST(root='./data', train=True, download=True, transform=transform)\n",
    "test_dataset = FashionMNIST(root='./data', train=False, download=True, transform=transform)\n",
    "\n",
    "train_loader = DataLoader(dataset=train_dataset, batch_size=64, shuffle=True)\n",
    "test_loader = DataLoader(dataset=test_dataset, batch_size=64, shuffle=False)\n",
    "\n",
    "\n",
    "\n",
    "# Definicja modelu\n",
    "class CNNModel(nn.Module):\n",
    "    def __init__(self, num_channels, kernel_size, pool_size):\n",
    "        super(CNNModel, self).__init__()\n",
    "        self.conv1 = nn.Conv2d(1, num_channels, kernel_size)\n",
    "        self.relu1 = nn.ReLU()\n",
    "\n",
    "        self.conv2 = nn.Conv2d(num_channels, num_channels, kernel_size)\n",
    "        self.relu2 = nn.ReLU()\n",
    "\n",
    "        self.pool = nn.MaxPool2d(pool_size)\n",
    "        self.flatten = nn.Flatten()\n",
    "        self.lazy_linear = nn.LazyLinear(10)\n",
    "\n",
    "    def forward(self, x):\n",
    "        x = self.conv1(x)\n",
    "        x = self.relu1(x)\n",
    "        x = self.conv2(x)\n",
    "        x = self.relu2(x)\n",
    "        x = self.pool(x)\n",
    "        x = self.flatten(x)\n",
    "        x = self.lazy_linear(x)\n",
    "        return x\n",
    "\n",
    "\n",
    "def train_model(model, train_loader, criterion, optimizer, num_epochs=5):\n",
    "    for epoch in range(num_epochs):\n",
    "        model.train()\n",
    "        running_loss = 0.0\n",
    "        for inputs, labels in train_loader:\n",
    "            optimizer.zero_grad()\n",
    "            outputs = model(inputs)\n",
    "            loss = criterion(outputs, labels)\n",
    "            loss.backward()\n",
    "            optimizer.step()\n",
    "            running_loss += loss.item()\n",
    "        print(f'Epoch {epoch + 1}/{num_epochs}, Loss: {running_loss / len(train_loader)}')\n",
    "\n",
    "# Funkcja do testowania modelu\n",
    "def test_model(model, test_loader, criterion):\n",
    "    model.eval()\n",
    "    correct = 0\n",
    "    total = 0\n",
    "    with torch.no_grad():\n",
    "        for inputs, labels in test_loader:\n",
    "            outputs = model(inputs)\n",
    "            _, predicted = torch.max(outputs, 1)\n",
    "            total += labels.size(0)\n",
    "            correct += (predicted == labels).sum().item()\n",
    "    accuracy = correct / total\n",
    "    print(f'Test Accuracy: {accuracy * 100:.2f}%')\n",
    "\n",
    "# Parametry do przebadania\n",
    "num_channels_list = [8, 16, 32, 64]\n",
    "kernel_size_list = [2, 3, 5, 7, 9]\n",
    "pool_size_list = [2, 3, 5]\n",
    "\n",
    "# for num_channels in num_channels_list:\n",
    "#     for kernel_size in kernel_size_list:\n",
    "#         for pool_size in pool_size_list:\n",
    "#             model = CNNModel(num_channels=num_channels, kernel_size=kernel_size, pool_size=pool_size, )\n",
    "#\n",
    "#             # Definicja funkcji kosztu i optymalizatora\n",
    "#             criterion = nn.CrossEntropyLoss()\n",
    "#             optimizer = optim.Adam(model.parameters(), lr=0.001)\n",
    "#\n",
    "#             print(f'Parameters: channels: {num_channels}, kernel: {kernel_size}, pool: {pool_size}')\n",
    "#             # Trenowanie modelu\n",
    "#             train_model(model, train_loader, criterion, optimizer)\n",
    "#\n",
    "#             # Testowanie modelu\n",
    "#             test_model(model, test_loader, criterion)\n",
    "\n",
    "\n"
   ]
  },
  {
   "cell_type": "code",
   "execution_count": 5,
   "outputs": [
    {
     "name": "stdout",
     "output_type": "stream",
     "text": [
      "Parametery: kanały: 8, filtr: 3, pool: 3\n",
      "Epoch 1/5, Loss: 0.5870195798146953\n",
      "Epoch 2/5, Loss: 0.39548187162766835\n",
      "Epoch 3/5, Loss: 0.35424771576897424\n",
      "Epoch 4/5, Loss: 0.3243995072173157\n",
      "Epoch 5/5, Loss: 0.3051555345593485\n",
      "Test Accuracy: 88.36%\n",
      "Parametery: kanały: 16, filtr: 3, pool: 3\n",
      "Epoch 1/5, Loss: 0.48712982164262963\n",
      "Epoch 2/5, Loss: 0.3272575498866374\n",
      "Epoch 3/5, Loss: 0.29053212774556075\n",
      "Epoch 4/5, Loss: 0.2673500760563655\n",
      "Epoch 5/5, Loss: 0.25202327401939234\n",
      "Test Accuracy: 90.19%\n",
      "Parametery: kanały: 32, filtr: 3, pool: 3\n",
      "Epoch 1/5, Loss: 0.4250640736412265\n",
      "Epoch 2/5, Loss: 0.28716583471340157\n",
      "Epoch 3/5, Loss: 0.24948371291510077\n",
      "Epoch 4/5, Loss: 0.22530631901326972\n",
      "Epoch 5/5, Loss: 0.20607632058245667\n",
      "Test Accuracy: 90.62%\n",
      "Parametery: kanały: 64, filtr: 3, pool: 3\n",
      "Epoch 1/5, Loss: 0.39139887170274373\n",
      "Epoch 2/5, Loss: 0.25592701746297797\n",
      "Epoch 3/5, Loss: 0.21585108281802268\n",
      "Epoch 4/5, Loss: 0.18859113117000822\n",
      "Epoch 5/5, Loss: 0.16522714388030552\n",
      "Test Accuracy: 91.92%\n",
      "Parametery: kanały: 16, filtr: 2, pool: 3\n",
      "Epoch 1/5, Loss: 0.5187739758952848\n",
      "Epoch 2/5, Loss: 0.35616138056397184\n",
      "Epoch 3/5, Loss: 0.31687207362735703\n",
      "Epoch 4/5, Loss: 0.2919517733982758\n",
      "Epoch 5/5, Loss: 0.27421283341451747\n",
      "Test Accuracy: 88.97%\n",
      "Parametery: kanały: 16, filtr: 3, pool: 3\n",
      "Epoch 1/5, Loss: 0.5016284028191302\n",
      "Epoch 2/5, Loss: 0.3315446772840994\n",
      "Epoch 3/5, Loss: 0.2883981905861704\n",
      "Epoch 4/5, Loss: 0.26415994615633603\n",
      "Epoch 5/5, Loss: 0.24699082901514668\n",
      "Test Accuracy: 90.42%\n",
      "Parametery: kanały: 16, filtr: 5, pool: 3\n",
      "Epoch 1/5, Loss: 0.5262550212649394\n",
      "Epoch 2/5, Loss: 0.3651952508972017\n",
      "Epoch 3/5, Loss: 0.3240335830953965\n",
      "Epoch 4/5, Loss: 0.30294715659990745\n",
      "Epoch 5/5, Loss: 0.28479809012970947\n",
      "Test Accuracy: 87.97%\n",
      "Parametery: kanały: 16, filtr: 7, pool: 3\n",
      "Epoch 1/5, Loss: 0.5378583798657602\n",
      "Epoch 2/5, Loss: 0.36997710111171705\n",
      "Epoch 3/5, Loss: 0.3304562948104034\n",
      "Epoch 4/5, Loss: 0.3075064118625894\n",
      "Epoch 5/5, Loss: 0.29111500361612613\n",
      "Test Accuracy: 88.50%\n",
      "Parametery: kanały: 16, filtr: 9, pool: 3\n",
      "Epoch 1/5, Loss: 0.5410764513811323\n",
      "Epoch 2/5, Loss: 0.3715816925821909\n",
      "Epoch 3/5, Loss: 0.3331650259541169\n",
      "Epoch 4/5, Loss: 0.3060817546379973\n",
      "Epoch 5/5, Loss: 0.2882775895789996\n",
      "Test Accuracy: 88.17%\n",
      "Parametery: kanały: 16, filtr: 3, pool: 2\n",
      "Epoch 1/5, Loss: 0.4570981451729213\n",
      "Epoch 2/5, Loss: 0.3053306805045366\n",
      "Epoch 3/5, Loss: 0.2655463851432302\n",
      "Epoch 4/5, Loss: 0.2415741468225715\n",
      "Epoch 5/5, Loss: 0.22243455396309844\n",
      "Test Accuracy: 90.33%\n",
      "Parametery: kanały: 16, filtr: 3, pool: 3\n",
      "Epoch 1/5, Loss: 0.4849027912976391\n",
      "Epoch 2/5, Loss: 0.32927807361713607\n",
      "Epoch 3/5, Loss: 0.2915289994638993\n",
      "Epoch 4/5, Loss: 0.26698712658272117\n",
      "Epoch 5/5, Loss: 0.248789234781888\n",
      "Test Accuracy: 90.13%\n",
      "Parametery: kanały: 16, filtr: 3, pool: 5\n",
      "Epoch 1/5, Loss: 0.6305703176999651\n",
      "Epoch 2/5, Loss: 0.4222656559270582\n",
      "Epoch 3/5, Loss: 0.3828533674830567\n",
      "Epoch 4/5, Loss: 0.35629198504790566\n",
      "Epoch 5/5, Loss: 0.33937076863640153\n",
      "Test Accuracy: 86.92%\n"
     ]
    }
   ],
   "source": [
    "for num_channels in num_channels_list:\n",
    "    kernel_size=kernel_size_list[1]\n",
    "    pool_size=pool_size_list[1]\n",
    "    model = CNNModel(num_channels=num_channels, kernel_size=kernel_size, pool_size=pool_size)\n",
    "\n",
    "    # Definicja funkcji kosztu i optymalizatora\n",
    "    criterion = nn.CrossEntropyLoss()\n",
    "    optimizer = optim.Adam(model.parameters(), lr=0.001)\n",
    "\n",
    "    print(f'Parametery: kanały: {num_channels}, filtr: {kernel_size}, pool: {pool_size}')\n",
    "    # Trenowanie modelu\n",
    "    train_model(model, train_loader, criterion, optimizer)\n",
    "\n",
    "    # Testowanie modelu\n",
    "    test_model(model, test_loader, criterion)\n",
    "\n",
    "for kernel_size in kernel_size_list:\n",
    "    num_channels=num_channels_list[1]\n",
    "    pool_size=pool_size_list[1]\n",
    "    model = CNNModel(num_channels=num_channels, kernel_size=kernel_size, pool_size=pool_size)\n",
    "\n",
    "    # Definicja funkcji kosztu i optymalizatora\n",
    "    criterion = nn.CrossEntropyLoss()\n",
    "    optimizer = optim.Adam(model.parameters(), lr=0.001)\n",
    "\n",
    "    print(f'Parametery: kanały: {num_channels}, filtr: {kernel_size}, pool: {pool_size}')\n",
    "    # Trenowanie modelu\n",
    "    train_model(model, train_loader, criterion, optimizer)\n",
    "\n",
    "    # Testowanie modelu\n",
    "    test_model(model, test_loader, criterion)\n",
    "\n",
    "for pool_size in pool_size_list:\n",
    "    kernel_size=kernel_size_list[1]\n",
    "    num_channels=num_channels_list[1]\n",
    "    model = CNNModel(num_channels=num_channels, kernel_size=kernel_size, pool_size=pool_size)\n",
    "\n",
    "    # Definicja funkcji kosztu i optymalizatora\n",
    "    criterion = nn.CrossEntropyLoss()\n",
    "    optimizer = optim.Adam(model.parameters(), lr=0.001)\n",
    "\n",
    "    print(f'Parametery: kanały: {num_channels}, filtr: {kernel_size}, pool: {pool_size}')\n",
    "    # Trenowanie modelu\n",
    "    train_model(model, train_loader, criterion, optimizer)\n",
    "\n",
    "    # Testowanie modelu\n",
    "    test_model(model, test_loader, criterion)"
   ],
   "metadata": {
    "collapsed": false,
    "pycharm": {
     "name": "#%%\n"
    }
   }
  },
  {
   "cell_type": "code",
   "execution_count": 6,
   "outputs": [
    {
     "name": "stdout",
     "output_type": "stream",
     "text": [
      "Downloading http://fashion-mnist.s3-website.eu-central-1.amazonaws.com/train-images-idx3-ubyte.gz\n",
      "Downloading http://fashion-mnist.s3-website.eu-central-1.amazonaws.com/train-images-idx3-ubyte.gz to ./data\\NoisyFashionMNIST\\raw\\train-images-idx3-ubyte.gz\n"
     ]
    },
    {
     "name": "stderr",
     "output_type": "stream",
     "text": [
      "100%|██████████| 26421880/26421880 [00:03<00:00, 7920317.34it/s]\n"
     ]
    },
    {
     "name": "stdout",
     "output_type": "stream",
     "text": [
      "Extracting ./data\\NoisyFashionMNIST\\raw\\train-images-idx3-ubyte.gz to ./data\\NoisyFashionMNIST\\raw\n",
      "\n",
      "Downloading http://fashion-mnist.s3-website.eu-central-1.amazonaws.com/train-labels-idx1-ubyte.gz\n",
      "Downloading http://fashion-mnist.s3-website.eu-central-1.amazonaws.com/train-labels-idx1-ubyte.gz to ./data\\NoisyFashionMNIST\\raw\\train-labels-idx1-ubyte.gz\n"
     ]
    },
    {
     "name": "stderr",
     "output_type": "stream",
     "text": [
      "100%|██████████| 29515/29515 [00:00<00:00, 985196.63it/s]\n"
     ]
    },
    {
     "name": "stdout",
     "output_type": "stream",
     "text": [
      "Extracting ./data\\NoisyFashionMNIST\\raw\\train-labels-idx1-ubyte.gz to ./data\\NoisyFashionMNIST\\raw\n",
      "\n",
      "Downloading http://fashion-mnist.s3-website.eu-central-1.amazonaws.com/t10k-images-idx3-ubyte.gz\n",
      "Downloading http://fashion-mnist.s3-website.eu-central-1.amazonaws.com/t10k-images-idx3-ubyte.gz to ./data\\NoisyFashionMNIST\\raw\\t10k-images-idx3-ubyte.gz\n"
     ]
    },
    {
     "name": "stderr",
     "output_type": "stream",
     "text": [
      "100%|██████████| 4422102/4422102 [00:00<00:00, 5743279.62it/s]\n"
     ]
    },
    {
     "name": "stdout",
     "output_type": "stream",
     "text": [
      "Extracting ./data\\NoisyFashionMNIST\\raw\\t10k-images-idx3-ubyte.gz to ./data\\NoisyFashionMNIST\\raw\n",
      "\n",
      "Downloading http://fashion-mnist.s3-website.eu-central-1.amazonaws.com/t10k-labels-idx1-ubyte.gz\n",
      "Downloading http://fashion-mnist.s3-website.eu-central-1.amazonaws.com/t10k-labels-idx1-ubyte.gz to ./data\\NoisyFashionMNIST\\raw\\t10k-labels-idx1-ubyte.gz\n"
     ]
    },
    {
     "name": "stderr",
     "output_type": "stream",
     "text": [
      "100%|██████████| 5148/5148 [00:00<00:00, 4928618.35it/s]"
     ]
    },
    {
     "name": "stdout",
     "output_type": "stream",
     "text": [
      "Extracting ./data\\NoisyFashionMNIST\\raw\\t10k-labels-idx1-ubyte.gz to ./data\\NoisyFashionMNIST\\raw\n",
      "\n",
      "Model z szumem w obydwóch zbiorach\n"
     ]
    },
    {
     "name": "stderr",
     "output_type": "stream",
     "text": [
      "\n"
     ]
    },
    {
     "name": "stdout",
     "output_type": "stream",
     "text": [
      "Epoch 1/5, Loss: 0.4613606103701886\n",
      "Epoch 2/5, Loss: 0.32479997769570046\n",
      "Epoch 3/5, Loss: 0.287286341166509\n",
      "Epoch 4/5, Loss: 0.2617346451226582\n",
      "Epoch 5/5, Loss: 0.2457261240320292\n",
      "Test Accuracy: 89.63%\n"
     ]
    }
   ],
   "source": [
    "class NoisyFashionMNIST(FashionMNIST):\n",
    "    def __init__(self, *args, noise_std=0.1, **kwargs):\n",
    "        super(NoisyFashionMNIST, self).__init__(*args, **kwargs)\n",
    "        self.noise_std = noise_std\n",
    "\n",
    "    def __getitem__(self, index):\n",
    "        img, label = super(NoisyFashionMNIST, self).__getitem__(index)\n",
    "        img += self.noise_std * torch.randn_like(img)\n",
    "        return img, label\n",
    "\n",
    "transform = transforms.Compose([transforms.ToTensor(), transforms.Normalize((0.5,), (0.5,))])\n",
    "\n",
    "train_dataset_noisy = NoisyFashionMNIST(root='./data', train=True, download=True, transform=transform, noise_std=0.1)\n",
    "test_dataset_noisy = NoisyFashionMNIST(root='./data', train=False, download=True, transform=transform, noise_std=0.1)\n",
    "\n",
    "train_loader = DataLoader(dataset=train_dataset_noisy, batch_size=64, shuffle=True)\n",
    "test_loader = DataLoader(dataset=test_dataset_noisy, batch_size=64, shuffle=False)\n",
    "\n",
    "num_channels_list = [16, 32, 64]\n",
    "kernel_size_list = [3, 5]\n",
    "pool_size_list = [2, 3]\n",
    "\n",
    "\n",
    "model = CNNModel(num_channels=num_channels_list[0],\n",
    "                 kernel_size=kernel_size_list[0],\n",
    "                 pool_size=pool_size_list[0], )\n",
    "\n",
    "# Definicja funkcji kosztu i optymalizatora\n",
    "criterion = nn.CrossEntropyLoss()\n",
    "optimizer = optim.Adam(model.parameters(), lr=0.001)\n",
    "\n",
    "print(\"Model z szumem w obydwóch zbiorach\")\n",
    "# Trenowanie modelu\n",
    "train_model(model, train_loader, criterion, optimizer)\n",
    "\n",
    "# Testowanie modelu\n",
    "test_model(model, test_loader, criterion)"
   ],
   "metadata": {
    "collapsed": false,
    "pycharm": {
     "name": "#%%\n"
    }
   }
  },
  {
   "cell_type": "code",
   "execution_count": 7,
   "outputs": [
    {
     "name": "stdout",
     "output_type": "stream",
     "text": [
      "Model z szumem w zbiorze testowym\n",
      "Epoch 1/5, Loss: 0.4711892266453965\n",
      "Epoch 2/5, Loss: 0.31545831620502574\n",
      "Epoch 3/5, Loss: 0.2660831423488253\n",
      "Epoch 4/5, Loss: 0.23769171071300374\n",
      "Epoch 5/5, Loss: 0.216030189465644\n",
      "Test Accuracy: 87.84%\n"
     ]
    }
   ],
   "source": [
    "train_dataset = FashionMNIST(root='./data', train=True, download=True, transform=transform)\n",
    "train_loader = DataLoader(dataset=train_dataset, batch_size=64, shuffle=True)\n",
    "\n",
    "test_dataset_noisy = NoisyFashionMNIST(root='./data', train=False, download=True, transform=transform, noise_std=0.1)\n",
    "test_loader = DataLoader(dataset=test_dataset_noisy, batch_size=64, shuffle=False)\n",
    "\n",
    "num_channels_list = [16, 32, 64]\n",
    "kernel_size_list = [3, 5]\n",
    "pool_size_list = [2, 3]\n",
    "\n",
    "\n",
    "model = CNNModel(num_channels=num_channels_list[0],\n",
    "                 kernel_size=kernel_size_list[0],\n",
    "                 pool_size=pool_size_list[0], )\n",
    "\n",
    "# Definicja funkcji kosztu i optymalizatora\n",
    "criterion = nn.CrossEntropyLoss()\n",
    "optimizer = optim.Adam(model.parameters(), lr=0.001)\n",
    "\n",
    "print(\"Model z szumem w zbiorze testowym\")\n",
    "# Trenowanie modelu\n",
    "train_model(model, train_loader, criterion, optimizer)\n",
    "\n",
    "# Testowanie modelu\n",
    "test_model(model, test_loader, criterion)"
   ],
   "metadata": {
    "collapsed": false,
    "pycharm": {
     "name": "#%%\n"
    }
   }
  },
  {
   "cell_type": "code",
   "execution_count": 8,
   "outputs": [
    {
     "name": "stdout",
     "output_type": "stream",
     "text": [
      "Parametery: kanały: 16, filtr: 5, pool: 3\n",
      "Epoch 1/5, Loss: 0.3979507311543168\n",
      "Epoch 2/5, Loss: 0.27243729696662694\n",
      "Epoch 3/5, Loss: 0.2283873064701618\n",
      "Epoch 4/5, Loss: 0.19441697063810154\n",
      "Epoch 5/5, Loss: 0.1679770310125403\n",
      "Test Accuracy: 89.16%\n"
     ]
    }
   ],
   "source": [
    "kernel_size=kernel_size_list[1]\n",
    "pool_size=pool_size_list[1]\n",
    "model = CNNModel(num_channels=128, kernel_size=kernel_size, pool_size=pool_size)\n",
    "\n",
    "# Definicja funkcji kosztu i optymalizatora\n",
    "criterion = nn.CrossEntropyLoss()\n",
    "optimizer = optim.Adam(model.parameters(), lr=0.001)\n",
    "\n",
    "print(f'Parametery: kanały: {num_channels}, filtr: {kernel_size}, pool: {pool_size}')\n",
    "# Trenowanie modelu\n",
    "train_model(model, train_loader, criterion, optimizer)\n",
    "\n",
    "# Testowanie modelu\n",
    "test_model(model, test_loader, criterion)"
   ],
   "metadata": {
    "collapsed": false,
    "pycharm": {
     "name": "#%%\n"
    }
   }
  }
 ],
 "metadata": {
  "kernelspec": {
   "display_name": "Python 3",
   "language": "python",
   "name": "python3"
  },
  "language_info": {
   "codemirror_mode": {
    "name": "ipython",
    "version": 2
   },
   "file_extension": ".py",
   "mimetype": "text/x-python",
   "name": "python",
   "nbconvert_exporter": "python",
   "pygments_lexer": "ipython2",
   "version": "2.7.6"
  }
 },
 "nbformat": 4,
 "nbformat_minor": 0
}