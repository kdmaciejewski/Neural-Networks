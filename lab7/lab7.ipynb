{
 "cells": [
  {
   "cell_type": "code",
   "execution_count": 1,
   "metadata": {},
   "outputs": [
    {
     "name": "stdout",
     "output_type": "stream",
     "text": [
      "Model: \"sequential\"\n",
      "_________________________________________________________________\n",
      " Layer (type)                Output Shape              Param #   \n",
      "=================================================================\n",
      " embedding (Embedding)       (None, 500, 32)           160000    \n",
      "                                                                 \n",
      " simple_rnn (SimpleRNN)      (None, 100)               13300     \n",
      "                                                                 \n",
      " dense (Dense)               (None, 1)                 101       \n",
      "                                                                 \n",
      "=================================================================\n",
      "Total params: 173,401\n",
      "Trainable params: 173,401\n",
      "Non-trainable params: 0\n",
      "_________________________________________________________________\n",
      "None\n",
      "Epoch 1/3\n",
      "358/358 [==============================] - 94s 260ms/step - loss: 0.6760 - accuracy: 0.5579 - val_loss: 0.6521 - val_accuracy: 0.6046\n",
      "Epoch 2/3\n",
      "358/358 [==============================] - 87s 244ms/step - loss: 0.6469 - accuracy: 0.6257 - val_loss: 0.6482 - val_accuracy: 0.5952\n",
      "Epoch 3/3\n",
      "358/358 [==============================] - 86s 240ms/step - loss: 0.6183 - accuracy: 0.6559 - val_loss: 0.6352 - val_accuracy: 0.6226\n",
      "Accuracy: 62.26%\n"
     ]
    }
   ],
   "source": [
    "from tensorflow.keras.datasets import imdb\n",
    "from tensorflow.keras.layers import Dense, LSTM, Embedding, SimpleRNN\n",
    "from tensorflow.keras.models import Sequential\n",
    "from tensorflow.keras.preprocessing import sequence\n",
    "\n",
    "max_features = 5000     #maksymalna liczba unikalnych słów\n",
    "max_sentence_length = 500   #maksymalna długość recenzji\n",
    "\n",
    "(X_train, y_train), (X_test, y_test) = imdb.load_data(num_words=max_features, maxlen=max_sentence_length)\n",
    "\n",
    "# do jednakowej długości\n",
    "X_train = sequence.pad_sequences(X_train, maxlen=max_sentence_length)\n",
    "X_test = sequence.pad_sequences(X_test, maxlen=max_sentence_length)\n",
    "\n",
    "model = Sequential()\n",
    "model.add(Embedding(input_dim=max_features, output_dim=32, input_length=max_sentence_length))\n",
    "model.add(SimpleRNN(100))\n",
    "# model.add(LSTM(units=100))\n",
    "model.add(Dense(1, activation='sigmoid'))\n",
    "\n",
    "model.compile(loss='binary_crossentropy', optimizer='adam', metrics=['accuracy'])\n",
    "print(model.summary())\n",
    "\n",
    "model.fit(X_train, y_train, validation_data=(X_test, y_test), epochs=3, batch_size=64)\n",
    "\n",
    "scores = model.evaluate(X_test, y_test, verbose=0)\n",
    "print(\"Accuracy: %.2f%%\" % (scores[1]*100))\n"
   ]
  },
  {
   "cell_type": "code",
   "execution_count": 2,
   "metadata": {},
   "outputs": [
    {
     "name": "stdout",
     "output_type": "stream",
     "text": [
      "Model: \"sequential_1\"\n",
      "_________________________________________________________________\n",
      " Layer (type)                Output Shape              Param #   \n",
      "=================================================================\n",
      " embedding_1 (Embedding)     (None, 500, 32)           160000    \n",
      "                                                                 \n",
      " lstm (LSTM)                 (None, 100)               53200     \n",
      "                                                                 \n",
      " dense_1 (Dense)             (None, 1)                 101       \n",
      "                                                                 \n",
      "=================================================================\n",
      "Total params: 213301 (833.21 KB)\n",
      "Trainable params: 213301 (833.21 KB)\n",
      "Non-trainable params: 0 (0.00 Byte)\n",
      "_________________________________________________________________\n",
      "None\n",
      "Epoch 1/3\n",
      "358/358 [==============================] - 476s 1s/step - loss: 0.5080 - accuracy: 0.7340 - val_loss: 0.3945 - val_accuracy: 0.8251\n",
      "Epoch 2/3\n",
      "358/358 [==============================] - 428s 1s/step - loss: 0.3110 - accuracy: 0.8724 - val_loss: 0.3234 - val_accuracy: 0.8633\n",
      "Epoch 3/3\n",
      "358/358 [==============================] - 390s 1s/step - loss: 0.2389 - accuracy: 0.9065 - val_loss: 0.2961 - val_accuracy: 0.8800\n",
      "Accuracy: 88.00%\n"
     ]
    }
   ],
   "source": [
    "model = Sequential()\n",
    "model.add(Embedding(input_dim=max_features, output_dim=32, input_length=max_sentence_length))\n",
    "# model.add(SimpleRNN(100))\n",
    "model.add(LSTM(units=100))\n",
    "model.add(Dense(1, activation='sigmoid'))\n",
    "\n",
    "model.compile(loss='binary_crossentropy', optimizer='adam', metrics=['accuracy'])\n",
    "print(model.summary())\n",
    "\n",
    "model.fit(X_train, y_train, validation_data=(X_test, y_test), epochs=3, batch_size=64)\n",
    "\n",
    "scores = model.evaluate(X_test, y_test, verbose=0)\n",
    "print(\"Accuracy: %.2f%%\" % (scores[1]*100))\n"
   ]
  },
  {
   "cell_type": "code",
   "execution_count": 3,
   "metadata": {},
   "outputs": [
    {
     "name": "stdout",
     "output_type": "stream",
     "text": [
      "Model: \"sequential_2\"\n",
      "_________________________________________________________________\n",
      " Layer (type)                Output Shape              Param #   \n",
      "=================================================================\n",
      " embedding_2 (Embedding)     (None, 500, 32)           160000    \n",
      "                                                                 \n",
      " simple_rnn_1 (SimpleRNN)    (None, 20)                1060      \n",
      "                                                                 \n",
      " dense_2 (Dense)             (None, 1)                 21        \n",
      "                                                                 \n",
      "=================================================================\n",
      "Total params: 161081 (629.22 KB)\n",
      "Trainable params: 161081 (629.22 KB)\n",
      "Non-trainable params: 0 (0.00 Byte)\n",
      "_________________________________________________________________\n",
      "None\n",
      "Epoch 1/3\n",
      "358/358 [==============================] - 77s 208ms/step - loss: 0.6729 - accuracy: 0.5719 - val_loss: 0.5603 - val_accuracy: 0.7243\n",
      "Epoch 2/3\n",
      "358/358 [==============================] - 63s 175ms/step - loss: 0.5013 - accuracy: 0.7621 - val_loss: 0.4892 - val_accuracy: 0.7742\n",
      "Epoch 3/3\n",
      "358/358 [==============================] - 88s 246ms/step - loss: 0.3766 - accuracy: 0.8359 - val_loss: 0.6147 - val_accuracy: 0.6715\n",
      "Accuracy: 67.15%\n"
     ]
    }
   ],
   "source": [
    "model = Sequential()\n",
    "model.add(Embedding(input_dim=max_features, output_dim=32, input_length=max_sentence_length))\n",
    "model.add(SimpleRNN(20))\n",
    "# model.add(LSTM(units=100))\n",
    "model.add(Dense(1, activation='sigmoid'))\n",
    "\n",
    "model.compile(loss='binary_crossentropy', optimizer='adam', metrics=['accuracy'])\n",
    "print(model.summary())\n",
    "\n",
    "model.fit(X_train, y_train, validation_data=(X_test, y_test), epochs=3, batch_size=64)\n",
    "\n",
    "scores = model.evaluate(X_test, y_test, verbose=0)\n",
    "print(\"Accuracy: %.2f%%\" % (scores[1]*100))"
   ]
  },
  {
   "cell_type": "code",
   "execution_count": 4,
   "metadata": {},
   "outputs": [
    {
     "name": "stdout",
     "output_type": "stream",
     "text": [
      "Model: \"sequential_3\"\n",
      "_________________________________________________________________\n",
      " Layer (type)                Output Shape              Param #   \n",
      "=================================================================\n",
      " embedding_3 (Embedding)     (None, 500, 32)           160000    \n",
      "                                                                 \n",
      " lstm_1 (LSTM)               (None, 20)                4240      \n",
      "                                                                 \n",
      " dense_3 (Dense)             (None, 1)                 21        \n",
      "                                                                 \n",
      "=================================================================\n",
      "Total params: 164261 (641.64 KB)\n",
      "Trainable params: 164261 (641.64 KB)\n",
      "Non-trainable params: 0 (0.00 Byte)\n",
      "_________________________________________________________________\n",
      "None\n",
      "Epoch 1/3\n",
      "358/358 [==============================] - 113s 304ms/step - loss: 0.4595 - accuracy: 0.7865 - val_loss: 0.3333 - val_accuracy: 0.8617\n",
      "Epoch 2/3\n",
      "358/358 [==============================] - 102s 283ms/step - loss: 0.2939 - accuracy: 0.8833 - val_loss: 0.3032 - val_accuracy: 0.8728\n",
      "Epoch 3/3\n",
      "358/358 [==============================] - 91s 254ms/step - loss: 0.2290 - accuracy: 0.9121 - val_loss: 0.2969 - val_accuracy: 0.8801\n",
      "Accuracy: 88.01%\n"
     ]
    }
   ],
   "source": [
    "model = Sequential()\n",
    "model.add(Embedding(input_dim=max_features, output_dim=32, input_length=max_sentence_length))\n",
    "# model.add(SimpleRNN(100))\n",
    "model.add(LSTM(units=20))\n",
    "model.add(Dense(1, activation='sigmoid'))\n",
    "\n",
    "model.compile(loss='binary_crossentropy', optimizer='adam', metrics=['accuracy'])\n",
    "print(model.summary())\n",
    "\n",
    "model.fit(X_train, y_train, validation_data=(X_test, y_test), epochs=3, batch_size=64)\n",
    "\n",
    "scores = model.evaluate(X_test, y_test, verbose=0)\n",
    "print(\"Accuracy: %.2f%%\" % (scores[1]*100))"
   ]
  },
  {
   "cell_type": "code",
   "execution_count": 5,
   "metadata": {},
   "outputs": [
    {
     "name": "stdout",
     "output_type": "stream",
     "text": [
      "Model: \"sequential_4\"\n",
      "_________________________________________________________________\n",
      " Layer (type)                Output Shape              Param #   \n",
      "=================================================================\n",
      " embedding_4 (Embedding)     (None, 500, 32)           160000    \n",
      "                                                                 \n",
      " simple_rnn_2 (SimpleRNN)    (None, 300)               99900     \n",
      "                                                                 \n",
      " dense_4 (Dense)             (None, 1)                 301       \n",
      "                                                                 \n",
      "=================================================================\n",
      "Total params: 260201 (1016.41 KB)\n",
      "Trainable params: 260201 (1016.41 KB)\n",
      "Non-trainable params: 0 (0.00 Byte)\n",
      "_________________________________________________________________\n",
      "None\n",
      "Epoch 1/3\n",
      "358/358 [==============================] - 242s 669ms/step - loss: 0.6828 - accuracy: 0.5448 - val_loss: 0.6981 - val_accuracy: 0.5449\n",
      "Epoch 2/3\n",
      "358/358 [==============================] - 208s 582ms/step - loss: 0.6842 - accuracy: 0.5454 - val_loss: 0.6688 - val_accuracy: 0.5729\n",
      "Epoch 3/3\n",
      "358/358 [==============================] - 199s 556ms/step - loss: 0.6359 - accuracy: 0.6304 - val_loss: 0.6358 - val_accuracy: 0.6277\n",
      "Accuracy: 62.77%\n"
     ]
    }
   ],
   "source": [
    "model = Sequential()\n",
    "model.add(Embedding(input_dim=max_features, output_dim=32, input_length=max_sentence_length))\n",
    "model.add(SimpleRNN(300))\n",
    "# model.add(LSTM(units=20))\n",
    "model.add(Dense(1, activation='sigmoid'))\n",
    "\n",
    "model.compile(loss='binary_crossentropy', optimizer='adam', metrics=['accuracy'])\n",
    "print(model.summary())\n",
    "\n",
    "model.fit(X_train, y_train, validation_data=(X_test, y_test), epochs=3, batch_size=500)\n",
    "\n",
    "scores = model.evaluate(X_test, y_test, verbose=0)\n",
    "print(\"Accuracy: %.2f%%\" % (scores[1]*100))"
   ]
  },
  {
   "cell_type": "code",
   "execution_count": 2,
   "metadata": {},
   "outputs": [
    {
     "name": "stdout",
     "output_type": "stream",
     "text": [
      "Model: \"sequential_1\"\n",
      "_________________________________________________________________\n",
      " Layer (type)                Output Shape              Param #   \n",
      "=================================================================\n",
      " embedding_1 (Embedding)     (None, 500, 32)           160000    \n",
      "                                                                 \n",
      " lstm (LSTM)                 (None, 300)               399600    \n",
      "                                                                 \n",
      " dense_1 (Dense)             (None, 1)                 301       \n",
      "                                                                 \n",
      "=================================================================\n",
      "Total params: 559,901\n",
      "Trainable params: 559,901\n",
      "Non-trainable params: 0\n",
      "_________________________________________________________________\n",
      "None\n",
      "Epoch 1/3\n",
      "46/46 [==============================] - 1018s 22s/step - loss: 0.6958 - accuracy: 0.5497 - val_loss: 0.6643 - val_accuracy: 0.6777\n",
      "Epoch 2/3\n",
      "46/46 [==============================] - 1317s 29s/step - loss: 0.5187 - accuracy: 0.7839 - val_loss: 0.3804 - val_accuracy: 0.8384\n",
      "Epoch 3/3\n",
      "46/46 [==============================] - 1256s 27s/step - loss: 0.3321 - accuracy: 0.8636 - val_loss: 0.3352 - val_accuracy: 0.8598\n",
      "Accuracy: 85.98%\n"
     ]
    }
   ],
   "source": [
    "model = Sequential()\n",
    "model.add(Embedding(input_dim=max_features, output_dim=32, input_length=max_sentence_length))\n",
    "# model.add(SimpleRNN(300))\n",
    "model.add(LSTM(units=300))\n",
    "model.add(Dense(1, activation='sigmoid'))\n",
    "\n",
    "model.compile(loss='binary_crossentropy', optimizer='adam', metrics=['accuracy'])\n",
    "print(model.summary())\n",
    "\n",
    "model.fit(X_train, y_train, validation_data=(X_test, y_test), epochs=3, batch_size=500)\n",
    "\n",
    "scores = model.evaluate(X_test, y_test, verbose=0)\n",
    "print(\"Accuracy: %.2f%%\" % (scores[1]*100))"
   ]
  },
  {
   "cell_type": "code",
   "execution_count": 15,
   "metadata": {},
   "outputs": [],
   "source": [
    "max_features = 10\n",
    "(X_train, y_train), (X_test, y_test) = imdb.load_data(num_words=max_features, maxlen=max_sentence_length)\n",
    "\n",
    "\n",
    "X_train = sequence.pad_sequences(X_train, maxlen=max_sentence_length)\n",
    "X_test = sequence.pad_sequences(X_test, maxlen=max_sentence_length)\n"
   ]
  },
  {
   "cell_type": "code",
   "execution_count": 10,
   "metadata": {},
   "outputs": [
    {
     "name": "stdout",
     "output_type": "stream",
     "text": [
      "Model: \"sequential_8\"\n",
      "_________________________________________________________________\n",
      " Layer (type)                Output Shape              Param #   \n",
      "=================================================================\n",
      " embedding_8 (Embedding)     (None, 500, 32)           160000    \n",
      "                                                                 \n",
      " simple_rnn_4 (SimpleRNN)    (None, 100)               13300     \n",
      "                                                                 \n",
      " dense_8 (Dense)             (None, 1)                 101       \n",
      "                                                                 \n",
      "=================================================================\n",
      "Total params: 173401 (677.35 KB)\n",
      "Trainable params: 173401 (677.35 KB)\n",
      "Non-trainable params: 0 (0.00 Byte)\n",
      "_________________________________________________________________\n",
      "None\n",
      "Epoch 1/3\n",
      "46/46 [==============================] - 32s 654ms/step - loss: 0.6948 - accuracy: 0.5045 - val_loss: 0.7001 - val_accuracy: 0.5026\n",
      "Epoch 2/3\n",
      "46/46 [==============================] - 29s 638ms/step - loss: 0.6948 - accuracy: 0.5016 - val_loss: 0.6958 - val_accuracy: 0.4974\n",
      "Epoch 3/3\n",
      "46/46 [==============================] - 30s 646ms/step - loss: 0.6939 - accuracy: 0.5138 - val_loss: 0.6934 - val_accuracy: 0.5038\n",
      "Accuracy: 50.38%\n"
     ]
    }
   ],
   "source": [
    "model = Sequential()\n",
    "model.add(Embedding(input_dim=max_features, output_dim=32, input_length=max_sentence_length))\n",
    "model.add(SimpleRNN(100))\n",
    "# model.add(LSTM(units=100))\n",
    "model.add(Dense(1, activation='sigmoid'))\n",
    "\n",
    "model.compile(loss='binary_crossentropy', optimizer='adam', metrics=['accuracy'])\n",
    "print(model.summary())\n",
    "\n",
    "model.fit(X_train, y_train, validation_data=(X_test, y_test), epochs=3, batch_size=500)\n",
    "\n",
    "scores = model.evaluate(X_test, y_test, verbose=0)\n",
    "print(\"Accuracy: %.2f%%\" % (scores[1]*100))"
   ]
  },
  {
   "cell_type": "code",
   "execution_count": 11,
   "metadata": {},
   "outputs": [
    {
     "name": "stdout",
     "output_type": "stream",
     "text": [
      "Model: \"sequential_9\"\n",
      "_________________________________________________________________\n",
      " Layer (type)                Output Shape              Param #   \n",
      "=================================================================\n",
      " embedding_9 (Embedding)     (None, 500, 32)           160000    \n",
      "                                                                 \n",
      " lstm_4 (LSTM)               (None, 100)               53200     \n",
      "                                                                 \n",
      " dense_9 (Dense)             (None, 1)                 101       \n",
      "                                                                 \n",
      "=================================================================\n",
      "Total params: 213301 (833.21 KB)\n",
      "Trainable params: 213301 (833.21 KB)\n",
      "Non-trainable params: 0 (0.00 Byte)\n",
      "_________________________________________________________________\n",
      "None\n",
      "Epoch 1/3\n",
      "46/46 [==============================] - 147s 3s/step - loss: 0.6926 - accuracy: 0.5137 - val_loss: 0.6858 - val_accuracy: 0.5398\n",
      "Epoch 2/3\n",
      "46/46 [==============================] - 157s 3s/step - loss: 0.6928 - accuracy: 0.5160 - val_loss: 0.6916 - val_accuracy: 0.5289\n",
      "Epoch 3/3\n",
      "46/46 [==============================] - 173s 4s/step - loss: 0.6909 - accuracy: 0.5371 - val_loss: 0.6908 - val_accuracy: 0.5359\n",
      "Accuracy: 53.59%\n"
     ]
    }
   ],
   "source": [
    "model = Sequential()\n",
    "model.add(Embedding(input_dim=max_features, output_dim=32, input_length=max_sentence_length))\n",
    "# model.add(SimpleRNN(100))\n",
    "model.add(LSTM(units=100))\n",
    "model.add(Dense(1, activation='sigmoid'))\n",
    "\n",
    "model.compile(loss='binary_crossentropy', optimizer='adam', metrics=['accuracy'])\n",
    "print(model.summary())\n",
    "\n",
    "model.fit(X_train, y_train, validation_data=(X_test, y_test), epochs=3, batch_size=500)\n",
    "\n",
    "scores = model.evaluate(X_test, y_test, verbose=0)\n",
    "print(\"Accuracy: %.2f%%\" % (scores[1]*100))"
   ]
  },
  {
   "cell_type": "code",
   "execution_count": 12,
   "metadata": {},
   "outputs": [],
   "source": [
    "max_features = 20\n",
    "(X_train, y_train), (X_test, y_test) = imdb.load_data(num_words=max_features, maxlen=max_sentence_length)\n",
    "\n",
    "\n",
    "X_train = sequence.pad_sequences(X_train, maxlen=max_sentence_length)\n",
    "X_test = sequence.pad_sequences(X_test, maxlen=max_sentence_length)\n"
   ]
  },
  {
   "cell_type": "code",
   "execution_count": 13,
   "metadata": {},
   "outputs": [
    {
     "name": "stdout",
     "output_type": "stream",
     "text": [
      "Model: \"sequential_10\"\n",
      "_________________________________________________________________\n",
      " Layer (type)                Output Shape              Param #   \n",
      "=================================================================\n",
      " embedding_10 (Embedding)    (None, 500, 32)           160000    \n",
      "                                                                 \n",
      " simple_rnn_5 (SimpleRNN)    (None, 100)               13300     \n",
      "                                                                 \n",
      " dense_10 (Dense)            (None, 1)                 101       \n",
      "                                                                 \n",
      "=================================================================\n",
      "Total params: 173401 (677.35 KB)\n",
      "Trainable params: 173401 (677.35 KB)\n",
      "Non-trainable params: 0 (0.00 Byte)\n",
      "_________________________________________________________________\n",
      "None\n",
      "Epoch 1/3\n",
      "46/46 [==============================] - 44s 924ms/step - loss: 0.6957 - accuracy: 0.4990 - val_loss: 0.6927 - val_accuracy: 0.5163\n",
      "Epoch 2/3\n",
      "46/46 [==============================] - 42s 910ms/step - loss: 0.6926 - accuracy: 0.5117 - val_loss: 0.6921 - val_accuracy: 0.5169\n",
      "Epoch 3/3\n",
      "46/46 [==============================] - 47s 1s/step - loss: 0.6907 - accuracy: 0.5227 - val_loss: 0.6917 - val_accuracy: 0.5137\n",
      "Accuracy: 51.37%\n"
     ]
    }
   ],
   "source": [
    "model = Sequential()\n",
    "model.add(Embedding(input_dim=max_features, output_dim=32, input_length=max_sentence_length))\n",
    "model.add(SimpleRNN(100))\n",
    "# model.add(LSTM(units=100))\n",
    "model.add(Dense(1, activation='sigmoid'))\n",
    "\n",
    "model.compile(loss='binary_crossentropy', optimizer='adam', metrics=['accuracy'])\n",
    "print(model.summary())\n",
    "\n",
    "model.fit(X_train, y_train, validation_data=(X_test, y_test), epochs=3, batch_size=500)\n",
    "\n",
    "scores = model.evaluate(X_test, y_test, verbose=0)\n",
    "print(\"Accuracy: %.2f%%\" % (scores[1]*100))"
   ]
  },
  {
   "cell_type": "code",
   "execution_count": 14,
   "metadata": {},
   "outputs": [
    {
     "name": "stdout",
     "output_type": "stream",
     "text": [
      "Model: \"sequential_11\"\n",
      "_________________________________________________________________\n",
      " Layer (type)                Output Shape              Param #   \n",
      "=================================================================\n",
      " embedding_11 (Embedding)    (None, 500, 32)           160000    \n",
      "                                                                 \n",
      " lstm_5 (LSTM)               (None, 100)               53200     \n",
      "                                                                 \n",
      " dense_11 (Dense)            (None, 1)                 101       \n",
      "                                                                 \n",
      "=================================================================\n",
      "Total params: 213301 (833.21 KB)\n",
      "Trainable params: 213301 (833.21 KB)\n",
      "Non-trainable params: 0 (0.00 Byte)\n",
      "_________________________________________________________________\n",
      "None\n",
      "Epoch 1/3\n",
      "46/46 [==============================] - 205s 4s/step - loss: 0.6923 - accuracy: 0.5334 - val_loss: 0.6889 - val_accuracy: 0.5524\n",
      "Epoch 2/3\n",
      "46/46 [==============================] - 220s 5s/step - loss: 0.6880 - accuracy: 0.5484 - val_loss: 0.6867 - val_accuracy: 0.5588\n",
      "Epoch 3/3\n",
      "46/46 [==============================] - 223s 5s/step - loss: 0.6828 - accuracy: 0.5640 - val_loss: 0.6841 - val_accuracy: 0.5593\n",
      "Accuracy: 55.93%\n"
     ]
    }
   ],
   "source": [
    "model = Sequential()\n",
    "model.add(Embedding(input_dim=max_features, output_dim=32, input_length=max_sentence_length))\n",
    "# model.add(SimpleRNN(100))\n",
    "model.add(LSTM(units=100))\n",
    "model.add(Dense(1, activation='sigmoid'))\n",
    "\n",
    "model.compile(loss='binary_crossentropy', optimizer='adam', metrics=['accuracy'])\n",
    "print(model.summary())\n",
    "\n",
    "model.fit(X_train, y_train, validation_data=(X_test, y_test), epochs=3, batch_size=500)\n",
    "\n",
    "scores = model.evaluate(X_test, y_test, verbose=0)\n",
    "print(\"Accuracy: %.2f%%\" % (scores[1]*100))"
   ]
  }
 ],
 "metadata": {
  "kernelspec": {
   "display_name": "Python 3",
   "language": "python",
   "name": "python3"
  },
  "language_info": {
   "codemirror_mode": {
    "name": "ipython",
    "version": 3
   },
   "file_extension": ".py",
   "mimetype": "text/x-python",
   "name": "python",
   "nbconvert_exporter": "python",
   "pygments_lexer": "ipython3",
   "version": "3.11.1"
  }
 },
 "nbformat": 4,
 "nbformat_minor": 2
}