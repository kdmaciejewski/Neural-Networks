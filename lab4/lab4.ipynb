{
 "cells": [
  {
   "cell_type": "code",
   "execution_count": 73,
   "metadata": {
    "collapsed": true
   },
   "outputs": [
    {
     "name": "stdout",
     "output_type": "stream",
     "text": [
      "tensor([[0.2083, 1.0000, 1.0000,  ..., 0.5000, 0.0000, 1.0000],\n",
      "        [0.4583, 1.0000, 1.0000,  ..., 0.0000, 0.0000, 1.0000],\n",
      "        [0.5000, 1.0000, 0.6667,  ..., 1.0000, 0.0000, 0.0000],\n",
      "        ...,\n",
      "        [0.6875, 1.0000, 1.0000,  ..., 0.5000, 0.6667, 1.0000],\n",
      "        [0.7708, 1.0000, 1.0000,  ..., 0.0000, 0.3333, 0.0000],\n",
      "        [0.4583, 0.0000, 0.6667,  ..., 0.0000, 0.0000, 0.0000]])\n"
     ]
    },
    {
     "name": "stderr",
     "output_type": "stream",
     "text": [
      "c:\\users\\krzys\\desktop\\pythonproject\\againterpreter\\lib\\site-packages\\pandas\\core\\generic.py:6392: SettingWithCopyWarning: \n",
      "A value is trying to be set on a copy of a slice from a DataFrame\n",
      "\n",
      "See the caveats in the documentation: https://pandas.pydata.org/pandas-docs/stable/user_guide/indexing.html#returning-a-view-versus-a-copy\n",
      "  return self._update_inplace(result)\n"
     ]
    }
   ],
   "source": [
    "import torch\n",
    "import torch.nn as nn\n",
    "import torch.optim as optim\n",
    "from ucimlrepo import fetch_ucirepo\n",
    "from sklearn.model_selection import train_test_split\n",
    "\n",
    "\n",
    "heart_disease = fetch_ucirepo(id=45)\n",
    "X = heart_disease.data.features\n",
    "Y = heart_disease.data.targets\n",
    "X.fillna({'ca': X['ca'].median(), 'thal': X['thal'].mode()[0]}, inplace=True)\n",
    "\n",
    "for index, row in Y.iterrows():\n",
    "    if row[0] != 0:\n",
    "        row[0] = 1 #jeżeli nie ma klasy 0 to ma klasę 1\n",
    "\n",
    "y = Y.to_numpy()\n",
    "X = (X-X.min())/(X.max()-X.min())\n",
    "x = X.to_numpy()\n",
    "\n",
    "x_train, x_test, y_train, y_test = train_test_split(x,y, test_size= 0.2)\n",
    "\n",
    "x_train = torch.tensor(x_train, dtype=torch.float32)\n",
    "x_test = torch.tensor(x_test, dtype=torch.float32)\n",
    "y_train = torch.tensor(y_train, dtype=torch.float32)\n",
    "y_test = torch.tensor(y_test, dtype=torch.float32)\n",
    "\n",
    "print(x_train)"
   ]
  },
  {
   "cell_type": "code",
   "execution_count": 86,
   "outputs": [],
   "source": [
    "class NeuralNetwork(nn.Module):\n",
    "    def __init__(self):\n",
    "        super(NeuralNetwork, self).__init__()\n",
    "        self.input_layer = nn.Linear(x_train.shape[1], 64)\n",
    "        self.hidden_layer = nn.Linear(64, 32)\n",
    "        self.output_layer = nn.Linear(32, 1)\n",
    "        self.sigmoid = nn.Sigmoid()\n",
    "\n",
    "    def forward(self, x):\n",
    "        x = self.input_layer(x)\n",
    "        x = self.sigmoid(x)\n",
    "        x = self.hidden_layer(x)\n",
    "        x = self.sigmoid(x)\n",
    "        x = self.output_layer(x)\n",
    "        return x\n",
    "\n",
    "model = NeuralNetwork()"
   ],
   "metadata": {
    "collapsed": false,
    "pycharm": {
     "name": "#%%\n"
    }
   }
  },
  {
   "cell_type": "code",
   "execution_count": 87,
   "outputs": [
    {
     "name": "stdout",
     "output_type": "stream",
     "text": [
      "Epoch [100/10000], Loss: 0.3439\n",
      "Epoch [200/10000], Loss: 0.3144\n",
      "Epoch [300/10000], Loss: 0.2852\n",
      "Epoch [400/10000], Loss: 0.2612\n",
      "Epoch [500/10000], Loss: 0.2414\n",
      "Epoch [600/10000], Loss: 0.2210\n",
      "Epoch [700/10000], Loss: 0.1978\n",
      "Epoch [800/10000], Loss: 0.1743\n",
      "Epoch [900/10000], Loss: 0.1515\n",
      "Epoch [1000/10000], Loss: 0.1314\n",
      "Epoch [1100/10000], Loss: 0.1141\n",
      "Epoch [1200/10000], Loss: 0.0990\n",
      "Epoch [1300/10000], Loss: 0.0861\n",
      "Epoch [1400/10000], Loss: 0.0751\n",
      "Epoch [1500/10000], Loss: 0.0657\n",
      "Epoch [1600/10000], Loss: 0.0561\n",
      "Epoch [1700/10000], Loss: 0.0477\n",
      "Epoch [1800/10000], Loss: 0.0994\n",
      "Epoch [1900/10000], Loss: 0.0382\n",
      "Epoch [2000/10000], Loss: 0.0343\n",
      "Epoch [2100/10000], Loss: 0.0309\n",
      "Epoch [2200/10000], Loss: 0.0277\n",
      "Epoch [2300/10000], Loss: 0.0247\n",
      "Epoch [2400/10000], Loss: 0.0221\n",
      "Epoch [2500/10000], Loss: 0.0197\n",
      "Epoch [2600/10000], Loss: 0.0177\n",
      "Epoch [2700/10000], Loss: 0.0159\n",
      "Epoch [2800/10000], Loss: 0.0144\n",
      "Epoch [2900/10000], Loss: 0.0130\n",
      "Epoch [3000/10000], Loss: 0.0119\n",
      "Epoch [3100/10000], Loss: 0.0109\n",
      "Epoch [3200/10000], Loss: 0.0100\n",
      "Epoch [3300/10000], Loss: 0.0092\n",
      "Epoch [3400/10000], Loss: 0.0086\n",
      "Epoch [3500/10000], Loss: 0.0080\n",
      "Epoch [3600/10000], Loss: 0.0074\n",
      "Epoch [3700/10000], Loss: 0.0069\n",
      "Epoch [3800/10000], Loss: 0.0065\n",
      "Epoch [3900/10000], Loss: 0.0061\n",
      "Epoch [4000/10000], Loss: 0.0057\n",
      "Epoch [4100/10000], Loss: 0.0054\n",
      "Epoch [4200/10000], Loss: 0.0051\n",
      "Epoch [4300/10000], Loss: 0.0048\n",
      "Epoch [4400/10000], Loss: 0.0046\n",
      "Epoch [4500/10000], Loss: 0.0043\n",
      "Epoch [4600/10000], Loss: 0.0041\n",
      "Epoch [4700/10000], Loss: 0.0039\n",
      "Epoch [4800/10000], Loss: 0.0038\n",
      "Epoch [4900/10000], Loss: 0.0036\n",
      "Epoch [5000/10000], Loss: 0.0034\n",
      "Epoch [5100/10000], Loss: 0.0033\n",
      "Epoch [5200/10000], Loss: 0.0031\n",
      "Epoch [5300/10000], Loss: 0.0030\n",
      "Epoch [5400/10000], Loss: 0.0029\n",
      "Epoch [5500/10000], Loss: 0.0028\n",
      "Epoch [5600/10000], Loss: 0.0027\n",
      "Epoch [5700/10000], Loss: 0.0026\n",
      "Epoch [5800/10000], Loss: 0.0025\n",
      "Epoch [5900/10000], Loss: 0.0024\n",
      "Epoch [6000/10000], Loss: 0.0023\n",
      "Epoch [6100/10000], Loss: 0.0022\n",
      "Epoch [6200/10000], Loss: 0.0021\n",
      "Epoch [6300/10000], Loss: 0.0021\n",
      "Epoch [6400/10000], Loss: 0.0020\n",
      "Epoch [6500/10000], Loss: 0.0019\n",
      "Epoch [6600/10000], Loss: 0.0019\n",
      "Epoch [6700/10000], Loss: 0.0018\n",
      "Epoch [6800/10000], Loss: 0.0018\n",
      "Epoch [6900/10000], Loss: 0.0017\n",
      "Epoch [7000/10000], Loss: 0.0017\n",
      "Epoch [7100/10000], Loss: 0.0016\n",
      "Epoch [7200/10000], Loss: 0.0016\n",
      "Epoch [7300/10000], Loss: 0.0015\n",
      "Epoch [7400/10000], Loss: 0.0015\n",
      "Epoch [7500/10000], Loss: 0.0014\n",
      "Epoch [7600/10000], Loss: 0.0014\n",
      "Epoch [7700/10000], Loss: 0.0014\n",
      "Epoch [7800/10000], Loss: 0.0013\n",
      "Epoch [7900/10000], Loss: 0.0013\n",
      "Epoch [8000/10000], Loss: 0.0013\n",
      "Epoch [8100/10000], Loss: 0.0012\n",
      "Epoch [8200/10000], Loss: 0.0012\n",
      "Epoch [8300/10000], Loss: 0.0012\n",
      "Epoch [8400/10000], Loss: 0.0011\n",
      "Epoch [8500/10000], Loss: 0.0011\n",
      "Epoch [8600/10000], Loss: 0.0011\n",
      "Epoch [8700/10000], Loss: 0.0011\n",
      "Epoch [8800/10000], Loss: 0.0010\n",
      "Epoch [8900/10000], Loss: 0.0010\n",
      "Epoch [9000/10000], Loss: 0.0010\n",
      "Epoch [9100/10000], Loss: 0.0010\n",
      "Epoch [9200/10000], Loss: 0.0009\n",
      "Epoch [9300/10000], Loss: 0.0009\n",
      "Epoch [9400/10000], Loss: 0.0009\n",
      "Epoch [9500/10000], Loss: 0.0009\n",
      "Epoch [9600/10000], Loss: 0.0009\n",
      "Epoch [9700/10000], Loss: 0.0009\n",
      "Epoch [9800/10000], Loss: 0.0008\n",
      "Epoch [9900/10000], Loss: 0.0008\n",
      "Epoch [10000/10000], Loss: 0.0008\n",
      "Training complete\n"
     ]
    }
   ],
   "source": [
    "# funkcja kosztu i optimizer\n",
    "criterion = nn.BCEWithLogitsLoss()\n",
    "# optimizer = optim.SGD(model.parameters(), lr=0.01)  # Stochastic Gradient Descent optimizer\n",
    "# optimizer = optim.Adam(model.parameters(), lr=0.1)\n",
    "optimizer = optim.Adagrad(model.parameters(), lr=0.1)\n",
    "\n",
    "\n",
    "num_epochs = 10000\n",
    "\n",
    "for epoch in range(num_epochs):\n",
    "    # Forward pass\n",
    "    outputs = model(x_train)\n",
    "    loss = criterion(outputs, y_train)\n",
    "\n",
    "    optimizer.zero_grad() #bo chcemy nadpisywać gradienty a nie je akumulować\n",
    "    loss.backward()\n",
    "    optimizer.step()    # zmiana parametrów zgodnie z wartością gradientu\n",
    "\n",
    "    if (epoch + 1) % 100 == 0:\n",
    "        print(f'Epoch [{epoch+1}/{num_epochs}], Loss: {loss.item():.4f}')\n",
    "\n",
    "print('Training complete')"
   ],
   "metadata": {
    "collapsed": false,
    "pycharm": {
     "name": "#%%\n"
    }
   }
  },
  {
   "cell_type": "code",
   "execution_count": 88,
   "outputs": [
    {
     "name": "stdout",
     "output_type": "stream",
     "text": [
      "Test Accuracy: 77.05%\n",
      "Confusion Matrix:\n",
      "[[24  7]\n",
      " [ 7 23]]\n"
     ]
    }
   ],
   "source": [
    "# ewaluacja modelu na zbiorze testowym\n",
    "from sklearn.metrics import confusion_matrix\n",
    "with torch.no_grad():\n",
    "    test_outputs = model(x_test)\n",
    "    test_outputs = (test_outputs > 0.5).float()\n",
    "    accuracy = (test_outputs == y_test).sum().item() / len(y_test)\n",
    "    print(f'Test Accuracy: {accuracy * 100:.2f}%')\n",
    "\n",
    "    cm = confusion_matrix(y_test, test_outputs)\n",
    "    print(\"Confusion Matrix:\")\n",
    "    print(cm)"
   ],
   "metadata": {
    "collapsed": false,
    "pycharm": {
     "name": "#%%\n"
    }
   }
  }
 ],
 "metadata": {
  "kernelspec": {
   "display_name": "Python 3",
   "language": "python",
   "name": "python3"
  },
  "language_info": {
   "codemirror_mode": {
    "name": "ipython",
    "version": 2
   },
   "file_extension": ".py",
   "mimetype": "text/x-python",
   "name": "python",
   "nbconvert_exporter": "python",
   "pygments_lexer": "ipython2",
   "version": "2.7.6"
  }
 },
 "nbformat": 4,
 "nbformat_minor": 0
}