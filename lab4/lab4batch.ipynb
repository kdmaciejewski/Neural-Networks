{
 "cells": [
  {
   "cell_type": "code",
   "execution_count": 10,
   "metadata": {
    "collapsed": true
   },
   "outputs": [
    {
     "name": "stdout",
     "output_type": "stream",
     "text": [
      "tensor([[0.3750, 1.0000, 1.0000,  ..., 0.0000, 0.0000, 0.0000],\n",
      "        [0.5833, 1.0000, 1.0000,  ..., 0.5000, 0.0000, 0.7500],\n",
      "        [0.8542, 1.0000, 1.0000,  ..., 1.0000, 0.0000, 1.0000],\n",
      "        ...,\n",
      "        [0.8542, 1.0000, 0.3333,  ..., 0.0000, 0.0000, 0.0000],\n",
      "        [0.5625, 0.0000, 0.3333,  ..., 0.5000, 0.0000, 0.0000],\n",
      "        [0.0000, 1.0000, 0.3333,  ..., 0.0000, 0.0000, 0.0000]])\n"
     ]
    },
    {
     "name": "stderr",
     "output_type": "stream",
     "text": [
      "c:\\users\\krzys\\desktop\\pythonproject\\againterpreter\\lib\\site-packages\\pandas\\core\\generic.py:6392: SettingWithCopyWarning: \n",
      "A value is trying to be set on a copy of a slice from a DataFrame\n",
      "\n",
      "See the caveats in the documentation: https://pandas.pydata.org/pandas-docs/stable/user_guide/indexing.html#returning-a-view-versus-a-copy\n",
      "  return self._update_inplace(result)\n"
     ]
    }
   ],
   "source": [
    "import torch\n",
    "import torch.nn as nn\n",
    "import torch.optim as optim\n",
    "import numpy as np\n",
    "from ucimlrepo import fetch_ucirepo\n",
    "from sklearn.model_selection import train_test_split\n",
    "\n",
    "\n",
    "heart_disease = fetch_ucirepo(id=45)\n",
    "X = heart_disease.data.features\n",
    "Y = heart_disease.data.targets\n",
    "X.fillna({'ca': X['ca'].median(), 'thal': X['thal'].mode()[0]}, inplace=True)\n",
    "\n",
    "for index, row in Y.iterrows():\n",
    "    if row[0] != 0:\n",
    "        row[0] = 1 #jeżeli nie ma klasy 0 to ma klasę 1\n",
    "\n",
    "y = Y.to_numpy()\n",
    "X = (X-X.min())/(X.max()-X.min())\n",
    "x = X.to_numpy()\n",
    "\n",
    "x_train, x_test, y_train, y_test = train_test_split(x,y, test_size= 0.2)\n",
    "\n",
    "x_train = torch.tensor(x_train, dtype=torch.float32)\n",
    "x_test = torch.tensor(x_test, dtype=torch.float32)\n",
    "y_train = torch.tensor(y_train, dtype=torch.float32)\n",
    "y_test = torch.tensor(y_test, dtype=torch.float32)\n",
    "\n",
    "print(x_train)"
   ]
  },
  {
   "cell_type": "code",
   "execution_count": 11,
   "outputs": [],
   "source": [
    "class NeuralNetwork(nn.Module):\n",
    "    def __init__(self):\n",
    "        super(NeuralNetwork, self).__init__()\n",
    "        self.input_layer = nn.Linear(x_train.shape[1], 64)\n",
    "        self.hidden_layer = nn.Linear(64, 32)\n",
    "        self.output_layer = nn.Linear(32, 1)\n",
    "        self.sigmoid = nn.Sigmoid()\n",
    "\n",
    "    def forward(self, x):\n",
    "        x = self.input_layer(x)\n",
    "        x = self.sigmoid(x)\n",
    "        x = self.hidden_layer(x)\n",
    "        x = self.sigmoid(x)\n",
    "        x = self.output_layer(x)\n",
    "        return x\n",
    "\n",
    "model = NeuralNetwork()"
   ],
   "metadata": {
    "collapsed": false,
    "pycharm": {
     "name": "#%%\n"
    }
   }
  },
  {
   "cell_type": "code",
   "execution_count": 12,
   "outputs": [
    {
     "name": "stdout",
     "output_type": "stream",
     "text": [
      "Epoch [100/10000], Loss: 0.3867\n",
      "Epoch [200/10000], Loss: 0.4173\n",
      "Epoch [300/10000], Loss: 0.4054\n",
      "Epoch [400/10000], Loss: 0.3644\n",
      "Epoch [500/10000], Loss: 0.2761\n",
      "Epoch [600/10000], Loss: 0.3474\n",
      "Epoch [700/10000], Loss: 0.3275\n",
      "Epoch [800/10000], Loss: 0.2460\n",
      "Epoch [900/10000], Loss: 0.4202\n",
      "Epoch [1000/10000], Loss: 0.2986\n",
      "Epoch [1100/10000], Loss: 0.2868\n",
      "Epoch [1200/10000], Loss: 0.3555\n",
      "Epoch [1300/10000], Loss: 0.3827\n",
      "Epoch [1400/10000], Loss: 0.3492\n",
      "Epoch [1500/10000], Loss: 0.4046\n",
      "Epoch [1600/10000], Loss: 0.4094\n",
      "Epoch [1700/10000], Loss: 0.3189\n",
      "Epoch [1800/10000], Loss: 0.3670\n",
      "Epoch [1900/10000], Loss: 0.2918\n",
      "Epoch [2000/10000], Loss: 0.4039\n",
      "Epoch [2100/10000], Loss: 0.3267\n",
      "Epoch [2200/10000], Loss: 0.3594\n",
      "Epoch [2300/10000], Loss: 0.3161\n",
      "Epoch [2400/10000], Loss: 0.3176\n",
      "Epoch [2500/10000], Loss: 0.2972\n",
      "Epoch [2600/10000], Loss: 0.3507\n",
      "Epoch [2700/10000], Loss: 0.3405\n",
      "Epoch [2800/10000], Loss: 0.3112\n",
      "Epoch [2900/10000], Loss: 0.3832\n",
      "Epoch [3000/10000], Loss: 0.3455\n",
      "Epoch [3100/10000], Loss: 0.3755\n",
      "Epoch [3200/10000], Loss: 0.3739\n",
      "Epoch [3300/10000], Loss: 0.3462\n",
      "Epoch [3400/10000], Loss: 0.3721\n",
      "Epoch [3500/10000], Loss: 0.3192\n",
      "Epoch [3600/10000], Loss: 0.3689\n",
      "Epoch [3700/10000], Loss: 0.3348\n",
      "Epoch [3800/10000], Loss: 0.3425\n",
      "Epoch [3900/10000], Loss: 0.3159\n",
      "Epoch [4000/10000], Loss: 0.3061\n",
      "Epoch [4100/10000], Loss: 0.2727\n",
      "Epoch [4200/10000], Loss: 0.3876\n",
      "Epoch [4300/10000], Loss: 0.3379\n",
      "Epoch [4400/10000], Loss: 0.3742\n",
      "Epoch [4500/10000], Loss: 0.3568\n",
      "Epoch [4600/10000], Loss: 0.3112\n",
      "Epoch [4700/10000], Loss: 0.3854\n",
      "Epoch [4800/10000], Loss: 0.3223\n",
      "Epoch [4900/10000], Loss: 0.3367\n",
      "Epoch [5000/10000], Loss: 0.3647\n",
      "Epoch [5100/10000], Loss: 0.3938\n",
      "Epoch [5200/10000], Loss: 0.3012\n",
      "Epoch [5300/10000], Loss: 0.3207\n",
      "Epoch [5400/10000], Loss: 0.3103\n",
      "Epoch [5500/10000], Loss: 0.3759\n",
      "Epoch [5600/10000], Loss: 0.3672\n",
      "Epoch [5700/10000], Loss: 0.3116\n",
      "Epoch [5800/10000], Loss: 0.3861\n",
      "Epoch [5900/10000], Loss: 0.2980\n",
      "Epoch [6000/10000], Loss: 0.3052\n",
      "Epoch [6100/10000], Loss: 0.3142\n",
      "Epoch [6200/10000], Loss: 0.2902\n",
      "Epoch [6300/10000], Loss: 0.3095\n",
      "Epoch [6400/10000], Loss: 0.3115\n",
      "Epoch [6500/10000], Loss: 0.3669\n",
      "Epoch [6600/10000], Loss: 0.4048\n",
      "Epoch [6700/10000], Loss: 0.3275\n",
      "Epoch [6800/10000], Loss: 0.3383\n",
      "Epoch [6900/10000], Loss: 0.3067\n",
      "Epoch [7000/10000], Loss: 0.3161\n",
      "Epoch [7100/10000], Loss: 0.3275\n",
      "Epoch [7200/10000], Loss: 0.3622\n",
      "Epoch [7300/10000], Loss: 0.3023\n",
      "Epoch [7400/10000], Loss: 0.3740\n",
      "Epoch [7500/10000], Loss: 0.2496\n",
      "Epoch [7600/10000], Loss: 0.2918\n",
      "Epoch [7700/10000], Loss: 0.3383\n",
      "Epoch [7800/10000], Loss: 0.3614\n",
      "Epoch [7900/10000], Loss: 0.3023\n",
      "Epoch [8000/10000], Loss: 0.2867\n",
      "Epoch [8100/10000], Loss: 0.2726\n",
      "Epoch [8200/10000], Loss: 0.3632\n",
      "Epoch [8300/10000], Loss: 0.3696\n",
      "Epoch [8400/10000], Loss: 0.3140\n",
      "Epoch [8500/10000], Loss: 0.3070\n",
      "Epoch [8600/10000], Loss: 0.3784\n",
      "Epoch [8700/10000], Loss: 0.2889\n",
      "Epoch [8800/10000], Loss: 0.3505\n",
      "Epoch [8900/10000], Loss: 0.3314\n",
      "Epoch [9000/10000], Loss: 0.3330\n",
      "Epoch [9100/10000], Loss: 0.3110\n",
      "Epoch [9200/10000], Loss: 0.3243\n",
      "Epoch [9300/10000], Loss: 0.3010\n",
      "Epoch [9400/10000], Loss: 0.3428\n",
      "Epoch [9500/10000], Loss: 0.3348\n",
      "Epoch [9600/10000], Loss: 0.4066\n",
      "Epoch [9700/10000], Loss: 0.3821\n",
      "Epoch [9800/10000], Loss: 0.3244\n",
      "Epoch [9900/10000], Loss: 0.3509\n",
      "Epoch [10000/10000], Loss: 0.4143\n"
     ]
    }
   ],
   "source": [
    "from torch.utils.data import TensorDataset, DataLoader\n",
    "\n",
    "train_dataset = TensorDataset(x_train, y_train)\n",
    "custom_batch_size = 128\n",
    "train_loader = DataLoader(train_dataset, batch_size=custom_batch_size, shuffle=True)\n",
    "\n",
    "# funkcja kosztu i optimizer\n",
    "# criterion = nn.BCELoss()  # Binary Cross-Entropy\n",
    "criterion = nn.BCEWithLogitsLoss()\n",
    "# optimizer = optim.SGD(model.parameters(), lr=0.1)  # Stochastic Gradient Descent optimizer\n",
    "# optimizer = optim.Adam(model.parameters(), lr=0.008)\n",
    "optimizer = optim.Adagrad(model.parameters(), lr=0.01)\n",
    "\n",
    "num_epochs = 10000\n",
    "\n",
    "for epoch in range(num_epochs):\n",
    "    for inputs, labels in train_loader:  # iteracja po barchach\n",
    "        outputs = model(inputs)\n",
    "        loss = criterion(outputs, labels)\n",
    "\n",
    "        optimizer.zero_grad()\n",
    "        loss.backward()\n",
    "        optimizer.step()\n",
    "\n",
    "    if (epoch + 1) % 100 == 0:\n",
    "        print(f'Epoch [{epoch+1}/{num_epochs}], Loss: {loss.item():.4f}')\n"
   ],
   "metadata": {
    "collapsed": false,
    "pycharm": {
     "name": "#%%\n"
    }
   }
  },
  {
   "cell_type": "code",
   "execution_count": 13,
   "outputs": [
    {
     "name": "stdout",
     "output_type": "stream",
     "text": [
      "Test Accuracy: 81.97%\n",
      "Confusion Matrix:\n",
      "[[32  3]\n",
      " [ 8 18]]\n"
     ]
    }
   ],
   "source": [
    "# ewaluacja modelu na zbiorze testowym\n",
    "from sklearn.metrics import confusion_matrix\n",
    "with torch.no_grad():\n",
    "    test_outputs = model(x_test)\n",
    "    test_outputs = (test_outputs > 0.5).float()\n",
    "    accuracy = (test_outputs == y_test).sum().item() / len(y_test)\n",
    "    print(f'Test Accuracy: {accuracy * 100:.2f}%')\n",
    "\n",
    "    cm = confusion_matrix(y_test, test_outputs)\n",
    "    print(\"Confusion Matrix:\")\n",
    "    print(cm)"
   ],
   "metadata": {
    "collapsed": false,
    "pycharm": {
     "name": "#%%\n"
    }
   }
  }
 ],
 "metadata": {
  "kernelspec": {
   "display_name": "Python 3",
   "language": "python",
   "name": "python3"
  },
  "language_info": {
   "codemirror_mode": {
    "name": "ipython",
    "version": 2
   },
   "file_extension": ".py",
   "mimetype": "text/x-python",
   "name": "python",
   "nbconvert_exporter": "python",
   "pygments_lexer": "ipython2",
   "version": "2.7.6"
  }
 },
 "nbformat": 4,
 "nbformat_minor": 0
}